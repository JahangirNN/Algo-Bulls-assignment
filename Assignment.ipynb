{
 "cells": [
  {
   "cell_type": "code",
   "execution_count": 9,
   "id": "5d74b516",
   "metadata": {},
   "outputs": [
    {
     "data": {
      "text/html": [
       "<div>\n",
       "<style scoped>\n",
       "    .dataframe tbody tr th:only-of-type {\n",
       "        vertical-align: middle;\n",
       "    }\n",
       "\n",
       "    .dataframe tbody tr th {\n",
       "        vertical-align: top;\n",
       "    }\n",
       "\n",
       "    .dataframe thead th {\n",
       "        text-align: right;\n",
       "    }\n",
       "</style>\n",
       "<table border=\"1\" class=\"dataframe\">\n",
       "  <thead>\n",
       "    <tr style=\"text-align: right;\">\n",
       "      <th></th>\n",
       "      <th>timestamp</th>\n",
       "      <th>indicator</th>\n",
       "    </tr>\n",
       "  </thead>\n",
       "  <tbody>\n",
       "    <tr>\n",
       "      <th>0</th>\n",
       "      <td>2023-02-13 20:00:00</td>\n",
       "      <td>NaN</td>\n",
       "    </tr>\n",
       "    <tr>\n",
       "      <th>1</th>\n",
       "      <td>2023-02-13 19:45:00</td>\n",
       "      <td>NaN</td>\n",
       "    </tr>\n",
       "    <tr>\n",
       "      <th>2</th>\n",
       "      <td>2023-02-13 19:30:00</td>\n",
       "      <td>NaN</td>\n",
       "    </tr>\n",
       "    <tr>\n",
       "      <th>3</th>\n",
       "      <td>2023-02-13 19:15:00</td>\n",
       "      <td>NaN</td>\n",
       "    </tr>\n",
       "    <tr>\n",
       "      <th>4</th>\n",
       "      <td>2023-02-13 19:00:00</td>\n",
       "      <td>94.312</td>\n",
       "    </tr>\n",
       "    <tr>\n",
       "      <th>...</th>\n",
       "      <td>...</td>\n",
       "      <td>...</td>\n",
       "    </tr>\n",
       "    <tr>\n",
       "      <th>95</th>\n",
       "      <td>2023-02-10 12:15:00</td>\n",
       "      <td>94.695</td>\n",
       "    </tr>\n",
       "    <tr>\n",
       "      <th>96</th>\n",
       "      <td>2023-02-10 12:00:00</td>\n",
       "      <td>94.626</td>\n",
       "    </tr>\n",
       "    <tr>\n",
       "      <th>97</th>\n",
       "      <td>2023-02-10 11:45:00</td>\n",
       "      <td>94.673</td>\n",
       "    </tr>\n",
       "    <tr>\n",
       "      <th>98</th>\n",
       "      <td>2023-02-10 11:30:00</td>\n",
       "      <td>94.743</td>\n",
       "    </tr>\n",
       "    <tr>\n",
       "      <th>99</th>\n",
       "      <td>2023-02-10 11:15:00</td>\n",
       "      <td>94.825</td>\n",
       "    </tr>\n",
       "  </tbody>\n",
       "</table>\n",
       "<p>100 rows × 2 columns</p>\n",
       "</div>"
      ],
      "text/plain": [
       "             timestamp  indicator\n",
       "0  2023-02-13 20:00:00        NaN\n",
       "1  2023-02-13 19:45:00        NaN\n",
       "2  2023-02-13 19:30:00        NaN\n",
       "3  2023-02-13 19:15:00        NaN\n",
       "4  2023-02-13 19:00:00     94.312\n",
       "..                 ...        ...\n",
       "95 2023-02-10 12:15:00     94.695\n",
       "96 2023-02-10 12:00:00     94.626\n",
       "97 2023-02-10 11:45:00     94.673\n",
       "98 2023-02-10 11:30:00     94.743\n",
       "99 2023-02-10 11:15:00     94.825\n",
       "\n",
       "[100 rows x 2 columns]"
      ]
     },
     "execution_count": 9,
     "metadata": {},
     "output_type": "execute_result"
    }
   ],
   "source": [
    "import pandas as pd\n",
    "import numpy as np\n",
    "from alpha_vantage.timeseries import TimeSeries\n",
    "\n",
    "ts = TimeSeries(key='EPMA90YFVN2QK9ZZ', output_format='pandas')\n",
    "\n",
    "## Question 1 : -\n",
    "\n",
    "class ScriptData:\n",
    "    \n",
    "    data = pd.DataFrame \n",
    "    metadata = pd.DataFrame\n",
    "    \n",
    "    # def __init__(self, script):\n",
    "    #     self.script = script\n",
    "    \n",
    "    ## a:- Fetches intraday data for given “script”\n",
    "    def fetch_intraday_data(self, script: str):        \n",
    "        self.data, self.metadata = ts.get_intraday(script)\n",
    "        return self.data.head(5)\n",
    "\n",
    "    ## b:- Converts fetched intraday data\n",
    "    def convert_intraday_data(self, script : str):\n",
    "        data, metadata = ts.get_intraday(script)\n",
    "        data.index.name = 'timestamp' \n",
    "        convert_dict = {\n",
    "                'volume': int\n",
    "                }\n",
    "\n",
    "        data.rename(columns = {'1. open':'open',\n",
    "                                    '2. high':'high',\n",
    "                                    '3. low':'low',\n",
    "                                    '4. close':'close',\n",
    "                                    '5. volume':'volume'}, inplace = True)\n",
    "        \n",
    "        data.reset_index(level=0, inplace=True)\n",
    "        \n",
    "        data = data.astype(convert_dict)\n",
    "\n",
    "        return data\n",
    "    \n",
    "    # def \n",
    "    \n",
    "## Question 2 :- Indicator function\n",
    "    \n",
    "    def indicator1(self, df: pd.DataFrame, timeperiod: int):\n",
    "        new_df = df[['timestamp']].copy()\n",
    "        new_df['indicator'] = df['close'].rolling(timeperiod).mean()\n",
    "        return new_df\n",
    "    \n",
    "    \n",
    "scriptData = ScriptData()\n",
    "\n",
    "scriptData.fetch_intraday_data('GOOGL')\n",
    "\n",
    "data = scriptData.convert_intraday_data('GOOGL')\n",
    "\n",
    "scriptData.indicator1(data, 5)"
   ]
  },
  {
   "cell_type": "code",
   "execution_count": 2,
   "id": "9b87969c",
   "metadata": {},
   "outputs": [
    {
     "data": {
      "text/html": [
       "<div>\n",
       "<style scoped>\n",
       "    .dataframe tbody tr th:only-of-type {\n",
       "        vertical-align: middle;\n",
       "    }\n",
       "\n",
       "    .dataframe tbody tr th {\n",
       "        vertical-align: top;\n",
       "    }\n",
       "\n",
       "    .dataframe thead th {\n",
       "        text-align: right;\n",
       "    }\n",
       "</style>\n",
       "<table border=\"1\" class=\"dataframe\">\n",
       "  <thead>\n",
       "    <tr style=\"text-align: right;\">\n",
       "      <th></th>\n",
       "      <th>timestamp</th>\n",
       "      <th>signal</th>\n",
       "    </tr>\n",
       "  </thead>\n",
       "  <tbody>\n",
       "    <tr>\n",
       "      <th>0</th>\n",
       "      <td>2023-02-13 20:00:00</td>\n",
       "      <td>None</td>\n",
       "    </tr>\n",
       "    <tr>\n",
       "      <th>1</th>\n",
       "      <td>2023-02-13 19:45:00</td>\n",
       "      <td>None</td>\n",
       "    </tr>\n",
       "    <tr>\n",
       "      <th>2</th>\n",
       "      <td>2023-02-13 19:30:00</td>\n",
       "      <td>None</td>\n",
       "    </tr>\n",
       "    <tr>\n",
       "      <th>3</th>\n",
       "      <td>2023-02-13 19:15:00</td>\n",
       "      <td>None</td>\n",
       "    </tr>\n",
       "    <tr>\n",
       "      <th>4</th>\n",
       "      <td>2023-02-13 19:00:00</td>\n",
       "      <td>BUY</td>\n",
       "    </tr>\n",
       "    <tr>\n",
       "      <th>...</th>\n",
       "      <td>...</td>\n",
       "      <td>...</td>\n",
       "    </tr>\n",
       "    <tr>\n",
       "      <th>95</th>\n",
       "      <td>2023-02-10 12:15:00</td>\n",
       "      <td>BUY</td>\n",
       "    </tr>\n",
       "    <tr>\n",
       "      <th>96</th>\n",
       "      <td>2023-02-10 12:00:00</td>\n",
       "      <td>BUY</td>\n",
       "    </tr>\n",
       "    <tr>\n",
       "      <th>97</th>\n",
       "      <td>2023-02-10 11:45:00</td>\n",
       "      <td>SELL</td>\n",
       "    </tr>\n",
       "    <tr>\n",
       "      <th>98</th>\n",
       "      <td>2023-02-10 11:30:00</td>\n",
       "      <td>SELL</td>\n",
       "    </tr>\n",
       "    <tr>\n",
       "      <th>99</th>\n",
       "      <td>2023-02-10 11:15:00</td>\n",
       "      <td>SELL</td>\n",
       "    </tr>\n",
       "  </tbody>\n",
       "</table>\n",
       "<p>100 rows × 2 columns</p>\n",
       "</div>"
      ],
      "text/plain": [
       "             timestamp signal\n",
       "0  2023-02-13 20:00:00   None\n",
       "1  2023-02-13 19:45:00   None\n",
       "2  2023-02-13 19:30:00   None\n",
       "3  2023-02-13 19:15:00   None\n",
       "4  2023-02-13 19:00:00    BUY\n",
       "..                 ...    ...\n",
       "95 2023-02-10 12:15:00    BUY\n",
       "96 2023-02-10 12:00:00    BUY\n",
       "97 2023-02-10 11:45:00   SELL\n",
       "98 2023-02-10 11:30:00   SELL\n",
       "99 2023-02-10 11:15:00   SELL\n",
       "\n",
       "[100 rows x 2 columns]"
      ]
     },
     "execution_count": 2,
     "metadata": {},
     "output_type": "execute_result"
    }
   ],
   "source": [
    "## Question 3 :- Stratergy with script name\n",
    "\n",
    "class Statergy:\n",
    "    \n",
    "    def __init__(self, script):\n",
    "        self.script = script\n",
    "        \n",
    "        \n",
    "    ## helper for Question3 - C that is dataframe Signals   \n",
    "    @classmethod\n",
    "    def categorise(self, row):\n",
    "        \n",
    "        if row['indicator_data'] < row['close_data'] :\n",
    "            return 'SELL'\n",
    "        elif row['indicator_data'] > row['close_data'] :\n",
    "            return 'BUY'\n",
    "        elif row['indicator_data'] == row['close_data'] :\n",
    "            return 'NO_SIGNAL'\n",
    "        \n",
    "    ## Uses SciptData's \"fetch_intraday_data()\" method  to fetch data.\n",
    "    ## Uses SciptData's \"convert_intraday_data\" method to convert the retrieved data.\n",
    "    \n",
    "    ## Here Computes indicator data on ‘close’ of ‘df’ using indicator1 function.\n",
    "    \n",
    "    ##\"indicator_data\", \"close_data\" columns are added to retrieved data df \n",
    "    ## So \"get_script_data\" will give answers of question a and b both.\n",
    "    \n",
    "    def get_script_data(self):\n",
    "        \n",
    "        scriptData = ScriptData(self.script)\n",
    "        scriptData.fetch_intraday_data()\n",
    "        scriptData.convert_intraday_data()\n",
    "            \n",
    "        indicator_response = scriptData.indicator1(scriptData.data, 5)\n",
    "        \n",
    "        scriptData.data['indicator_data'] = indicator_response['indicator']\n",
    "        scriptData.data.rename(columns = {'close':'close_data'}, inplace = True)\n",
    "\n",
    "        return scriptData.data\n",
    "    \n",
    "    ## Signals dataframe\n",
    "    def get_signals(self):\n",
    "        \n",
    "        ## Uses SciptData's method for timestamp column\n",
    "        script_df = self.get_script_data() \n",
    "        df = script_df[['timestamp']].copy()\n",
    "        \n",
    "        ## using classmethod helper for signal (Buy, Sell , No signal)\n",
    "        df['signal'] = script_df.apply(lambda row: Statergy.categorise(row), axis=1)\n",
    "        return df\n",
    "    \n",
    "statergy = Statergy('GOOGL')\n",
    "# statergy.get_script_data() \n",
    "statergy.get_signals()"
   ]
  },
  {
   "cell_type": "code",
   "execution_count": 3,
   "id": "997c799c",
   "metadata": {},
   "outputs": [
    {
     "data": {
      "application/vnd.plotly.v1+json": {
       "config": {
        "plotlyServerURL": "https://plot.ly"
       },
       "data": [
        {
         "close": [
          94.4,
          94.29,
          94.3,
          94.3,
          94.27,
          94.31,
          94.53,
          94.48,
          94.51,
          94.53,
          94.6,
          94.6,
          94.56,
          94.56,
          94.51,
          94.56,
          94.63,
          94.58,
          94.39,
          94.38,
          94.2781,
          94.35,
          94.46,
          94.57,
          94.825,
          94.5499,
          94.875,
          94.41,
          94.545,
          94.63,
          94.42,
          94.395,
          94.3,
          94.3021,
          94.45,
          94.65,
          94.15,
          93.9899,
          94.4,
          94.18,
          95.02,
          94.8,
          94.74,
          94.95,
          95.06,
          95,
          95.2611,
          95.22,
          95.25,
          95.44,
          95.32,
          95.2,
          95.08,
          95,
          95.02,
          94.89,
          95.03,
          94.98,
          94.9,
          94.91,
          94.91,
          94.76,
          94.94,
          94.69,
          94.69,
          94.63,
          94.6,
          94.62,
          94.6,
          94.59,
          94.5,
          94.55,
          94.5319,
          94.55,
          94.5301,
          94.54,
          94.53,
          94.53,
          94.4705,
          94.48,
          94.57,
          94.61,
          94.45,
          94.505,
          94.5752,
          94.535,
          94.5218,
          94.835,
          94.9059,
          94.91,
          95.03,
          94.95,
          94.755,
          94.57,
          94.77,
          94.43,
          94.605,
          94.99,
          94.92,
          95.18
         ],
         "high": [
          94.4,
          94.47,
          94.39,
          94.3,
          94.3,
          94.52,
          94.53,
          94.52,
          94.55,
          94.6013,
          94.61,
          94.63,
          94.63,
          94.57,
          94.61,
          94.7,
          94.65,
          94.65,
          94.54,
          94.42,
          94.385,
          94.605,
          94.63,
          94.87,
          94.8499,
          94.96,
          94.875,
          94.56,
          94.78,
          94.84,
          94.55,
          94.43,
          94.36,
          94.5,
          94.8,
          94.68,
          94.4,
          94.455,
          94.6,
          95.2,
          95.14,
          95.01,
          95.22,
          95.0804,
          95.15,
          95.3,
          95.4,
          95.47,
          95.47,
          95.45,
          95.36,
          95.2,
          95.12,
          95.15,
          95.02,
          95.1,
          95.13,
          94.98,
          94.9,
          94.95,
          94.91,
          94.94,
          94.97,
          94.83,
          94.69,
          94.68,
          94.64,
          94.65,
          94.66,
          94.59,
          94.56,
          94.57,
          94.57,
          94.57,
          94.545,
          94.57,
          94.53,
          94.53,
          94.57,
          94.57,
          94.775,
          94.6899,
          94.53,
          94.67,
          94.72,
          94.72,
          94.9,
          94.9468,
          95.125,
          95.14,
          95.35,
          95,
          94.87,
          94.95,
          94.81,
          94.6513,
          95.1,
          95.01,
          95.3,
          95.53
         ],
         "low": [
          94.28,
          94.29,
          94.28,
          94.27,
          94.2,
          94.21,
          94.45,
          94.4501,
          94.5,
          94.53,
          94.55,
          94.55,
          94.54,
          94.49,
          94.49,
          94.51,
          94.35,
          94.38,
          94.32,
          94.1,
          94.12,
          94.21,
          94.45,
          94.48,
          94.5,
          94.53,
          94.31,
          94.21,
          94.54,
          94.34,
          94.335,
          94.22,
          94.12,
          93.98,
          94.38,
          94.155,
          93.891,
          93.84,
          94.075,
          94.08,
          94.45,
          94.305,
          94.58,
          94.93,
          94.83,
          95,
          95.1628,
          93.76,
          95.25,
          95.36,
          95.23,
          95,
          94.99,
          94.99,
          94.82,
          94.89,
          94.95,
          94.89,
          94.86,
          94.86,
          94.8,
          94.76,
          94.74,
          94.64,
          94.58,
          94.57,
          94.58,
          94.6,
          94.56,
          94.5001,
          94.5,
          94.45,
          94.4917,
          94.5,
          94.5,
          94.51,
          94.5,
          94.47,
          94.45,
          94.44,
          94.4,
          94.37,
          94.3,
          94.44,
          94.39,
          94.4307,
          94.5,
          94.69,
          94.895,
          94.85,
          94.93,
          94.74,
          94.56,
          94.45,
          94.365,
          94.25,
          94.58,
          94.6801,
          94.91,
          94.99
         ],
         "open": [
          94.28,
          94.3,
          94.3,
          94.29,
          94.3,
          94.52,
          94.51,
          94.51,
          94.54,
          94.55,
          94.5501,
          94.57,
          94.54,
          94.51,
          94.59,
          94.62,
          94.57,
          94.39,
          94.39,
          94.2701,
          94.3492,
          94.47,
          94.5601,
          94.83,
          94.54,
          94.87,
          94.4,
          94.545,
          94.63,
          94.43,
          94.4,
          94.29,
          94.3064,
          94.46,
          94.65,
          94.16,
          93.99,
          94.41,
          94.19,
          95.015,
          94.8,
          94.74,
          95,
          95.0804,
          95,
          95.3,
          95.2,
          95.2302,
          95.46,
          95.37,
          95.25,
          95,
          94.99,
          95,
          94.82,
          95.08,
          94.95,
          94.89,
          94.89,
          94.88,
          94.8,
          94.94,
          94.74,
          94.73,
          94.59,
          94.58,
          94.6,
          94.65,
          94.59,
          94.5001,
          94.55,
          94.5699,
          94.57,
          94.5362,
          94.54,
          94.53,
          94.53,
          94.51,
          94.5,
          94.57,
          94.61,
          94.45,
          94.5,
          94.59,
          94.54,
          94.515,
          94.83,
          94.91,
          94.91,
          95.0202,
          94.94,
          94.75,
          94.58,
          94.77,
          94.42,
          94.6,
          94.99,
          94.92,
          95.19,
          95.42
         ],
         "type": "candlestick",
         "x": [
          "2023-02-13T20:00:00",
          "2023-02-13T19:45:00",
          "2023-02-13T19:30:00",
          "2023-02-13T19:15:00",
          "2023-02-13T19:00:00",
          "2023-02-13T18:45:00",
          "2023-02-13T18:30:00",
          "2023-02-13T18:15:00",
          "2023-02-13T18:00:00",
          "2023-02-13T17:45:00",
          "2023-02-13T17:30:00",
          "2023-02-13T17:15:00",
          "2023-02-13T17:00:00",
          "2023-02-13T16:45:00",
          "2023-02-13T16:30:00",
          "2023-02-13T16:15:00",
          "2023-02-13T16:00:00",
          "2023-02-13T15:45:00",
          "2023-02-13T15:30:00",
          "2023-02-13T15:15:00",
          "2023-02-13T15:00:00",
          "2023-02-13T14:45:00",
          "2023-02-13T14:30:00",
          "2023-02-13T14:15:00",
          "2023-02-13T14:00:00",
          "2023-02-13T13:45:00",
          "2023-02-13T13:30:00",
          "2023-02-13T13:15:00",
          "2023-02-13T13:00:00",
          "2023-02-13T12:45:00",
          "2023-02-13T12:30:00",
          "2023-02-13T12:15:00",
          "2023-02-13T12:00:00",
          "2023-02-13T11:45:00",
          "2023-02-13T11:30:00",
          "2023-02-13T11:15:00",
          "2023-02-13T11:00:00",
          "2023-02-13T10:45:00",
          "2023-02-13T10:30:00",
          "2023-02-13T10:15:00",
          "2023-02-13T10:00:00",
          "2023-02-13T09:45:00",
          "2023-02-13T09:30:00",
          "2023-02-13T09:15:00",
          "2023-02-13T09:00:00",
          "2023-02-13T08:45:00",
          "2023-02-13T08:30:00",
          "2023-02-13T08:15:00",
          "2023-02-13T08:00:00",
          "2023-02-13T07:45:00",
          "2023-02-13T07:30:00",
          "2023-02-13T07:15:00",
          "2023-02-13T07:00:00",
          "2023-02-13T06:45:00",
          "2023-02-13T06:30:00",
          "2023-02-13T06:15:00",
          "2023-02-13T06:00:00",
          "2023-02-13T05:45:00",
          "2023-02-13T05:30:00",
          "2023-02-13T05:15:00",
          "2023-02-13T05:00:00",
          "2023-02-13T04:45:00",
          "2023-02-13T04:30:00",
          "2023-02-13T04:15:00",
          "2023-02-10T20:00:00",
          "2023-02-10T19:45:00",
          "2023-02-10T19:30:00",
          "2023-02-10T19:15:00",
          "2023-02-10T19:00:00",
          "2023-02-10T18:45:00",
          "2023-02-10T18:30:00",
          "2023-02-10T18:15:00",
          "2023-02-10T18:00:00",
          "2023-02-10T17:45:00",
          "2023-02-10T17:30:00",
          "2023-02-10T17:15:00",
          "2023-02-10T17:00:00",
          "2023-02-10T16:45:00",
          "2023-02-10T16:30:00",
          "2023-02-10T16:15:00",
          "2023-02-10T16:00:00",
          "2023-02-10T15:45:00",
          "2023-02-10T15:30:00",
          "2023-02-10T15:15:00",
          "2023-02-10T15:00:00",
          "2023-02-10T14:45:00",
          "2023-02-10T14:30:00",
          "2023-02-10T14:15:00",
          "2023-02-10T14:00:00",
          "2023-02-10T13:45:00",
          "2023-02-10T13:30:00",
          "2023-02-10T13:15:00",
          "2023-02-10T13:00:00",
          "2023-02-10T12:45:00",
          "2023-02-10T12:30:00",
          "2023-02-10T12:15:00",
          "2023-02-10T12:00:00",
          "2023-02-10T11:45:00",
          "2023-02-10T11:30:00",
          "2023-02-10T11:15:00"
         ]
        }
       ],
       "layout": {
        "template": {
         "data": {
          "bar": [
           {
            "error_x": {
             "color": "#2a3f5f"
            },
            "error_y": {
             "color": "#2a3f5f"
            },
            "marker": {
             "line": {
              "color": "#E5ECF6",
              "width": 0.5
             },
             "pattern": {
              "fillmode": "overlay",
              "size": 10,
              "solidity": 0.2
             }
            },
            "type": "bar"
           }
          ],
          "barpolar": [
           {
            "marker": {
             "line": {
              "color": "#E5ECF6",
              "width": 0.5
             },
             "pattern": {
              "fillmode": "overlay",
              "size": 10,
              "solidity": 0.2
             }
            },
            "type": "barpolar"
           }
          ],
          "carpet": [
           {
            "aaxis": {
             "endlinecolor": "#2a3f5f",
             "gridcolor": "white",
             "linecolor": "white",
             "minorgridcolor": "white",
             "startlinecolor": "#2a3f5f"
            },
            "baxis": {
             "endlinecolor": "#2a3f5f",
             "gridcolor": "white",
             "linecolor": "white",
             "minorgridcolor": "white",
             "startlinecolor": "#2a3f5f"
            },
            "type": "carpet"
           }
          ],
          "choropleth": [
           {
            "colorbar": {
             "outlinewidth": 0,
             "ticks": ""
            },
            "type": "choropleth"
           }
          ],
          "contour": [
           {
            "colorbar": {
             "outlinewidth": 0,
             "ticks": ""
            },
            "colorscale": [
             [
              0,
              "#0d0887"
             ],
             [
              0.1111111111111111,
              "#46039f"
             ],
             [
              0.2222222222222222,
              "#7201a8"
             ],
             [
              0.3333333333333333,
              "#9c179e"
             ],
             [
              0.4444444444444444,
              "#bd3786"
             ],
             [
              0.5555555555555556,
              "#d8576b"
             ],
             [
              0.6666666666666666,
              "#ed7953"
             ],
             [
              0.7777777777777778,
              "#fb9f3a"
             ],
             [
              0.8888888888888888,
              "#fdca26"
             ],
             [
              1,
              "#f0f921"
             ]
            ],
            "type": "contour"
           }
          ],
          "contourcarpet": [
           {
            "colorbar": {
             "outlinewidth": 0,
             "ticks": ""
            },
            "type": "contourcarpet"
           }
          ],
          "heatmap": [
           {
            "colorbar": {
             "outlinewidth": 0,
             "ticks": ""
            },
            "colorscale": [
             [
              0,
              "#0d0887"
             ],
             [
              0.1111111111111111,
              "#46039f"
             ],
             [
              0.2222222222222222,
              "#7201a8"
             ],
             [
              0.3333333333333333,
              "#9c179e"
             ],
             [
              0.4444444444444444,
              "#bd3786"
             ],
             [
              0.5555555555555556,
              "#d8576b"
             ],
             [
              0.6666666666666666,
              "#ed7953"
             ],
             [
              0.7777777777777778,
              "#fb9f3a"
             ],
             [
              0.8888888888888888,
              "#fdca26"
             ],
             [
              1,
              "#f0f921"
             ]
            ],
            "type": "heatmap"
           }
          ],
          "heatmapgl": [
           {
            "colorbar": {
             "outlinewidth": 0,
             "ticks": ""
            },
            "colorscale": [
             [
              0,
              "#0d0887"
             ],
             [
              0.1111111111111111,
              "#46039f"
             ],
             [
              0.2222222222222222,
              "#7201a8"
             ],
             [
              0.3333333333333333,
              "#9c179e"
             ],
             [
              0.4444444444444444,
              "#bd3786"
             ],
             [
              0.5555555555555556,
              "#d8576b"
             ],
             [
              0.6666666666666666,
              "#ed7953"
             ],
             [
              0.7777777777777778,
              "#fb9f3a"
             ],
             [
              0.8888888888888888,
              "#fdca26"
             ],
             [
              1,
              "#f0f921"
             ]
            ],
            "type": "heatmapgl"
           }
          ],
          "histogram": [
           {
            "marker": {
             "pattern": {
              "fillmode": "overlay",
              "size": 10,
              "solidity": 0.2
             }
            },
            "type": "histogram"
           }
          ],
          "histogram2d": [
           {
            "colorbar": {
             "outlinewidth": 0,
             "ticks": ""
            },
            "colorscale": [
             [
              0,
              "#0d0887"
             ],
             [
              0.1111111111111111,
              "#46039f"
             ],
             [
              0.2222222222222222,
              "#7201a8"
             ],
             [
              0.3333333333333333,
              "#9c179e"
             ],
             [
              0.4444444444444444,
              "#bd3786"
             ],
             [
              0.5555555555555556,
              "#d8576b"
             ],
             [
              0.6666666666666666,
              "#ed7953"
             ],
             [
              0.7777777777777778,
              "#fb9f3a"
             ],
             [
              0.8888888888888888,
              "#fdca26"
             ],
             [
              1,
              "#f0f921"
             ]
            ],
            "type": "histogram2d"
           }
          ],
          "histogram2dcontour": [
           {
            "colorbar": {
             "outlinewidth": 0,
             "ticks": ""
            },
            "colorscale": [
             [
              0,
              "#0d0887"
             ],
             [
              0.1111111111111111,
              "#46039f"
             ],
             [
              0.2222222222222222,
              "#7201a8"
             ],
             [
              0.3333333333333333,
              "#9c179e"
             ],
             [
              0.4444444444444444,
              "#bd3786"
             ],
             [
              0.5555555555555556,
              "#d8576b"
             ],
             [
              0.6666666666666666,
              "#ed7953"
             ],
             [
              0.7777777777777778,
              "#fb9f3a"
             ],
             [
              0.8888888888888888,
              "#fdca26"
             ],
             [
              1,
              "#f0f921"
             ]
            ],
            "type": "histogram2dcontour"
           }
          ],
          "mesh3d": [
           {
            "colorbar": {
             "outlinewidth": 0,
             "ticks": ""
            },
            "type": "mesh3d"
           }
          ],
          "parcoords": [
           {
            "line": {
             "colorbar": {
              "outlinewidth": 0,
              "ticks": ""
             }
            },
            "type": "parcoords"
           }
          ],
          "pie": [
           {
            "automargin": true,
            "type": "pie"
           }
          ],
          "scatter": [
           {
            "fillpattern": {
             "fillmode": "overlay",
             "size": 10,
             "solidity": 0.2
            },
            "type": "scatter"
           }
          ],
          "scatter3d": [
           {
            "line": {
             "colorbar": {
              "outlinewidth": 0,
              "ticks": ""
             }
            },
            "marker": {
             "colorbar": {
              "outlinewidth": 0,
              "ticks": ""
             }
            },
            "type": "scatter3d"
           }
          ],
          "scattercarpet": [
           {
            "marker": {
             "colorbar": {
              "outlinewidth": 0,
              "ticks": ""
             }
            },
            "type": "scattercarpet"
           }
          ],
          "scattergeo": [
           {
            "marker": {
             "colorbar": {
              "outlinewidth": 0,
              "ticks": ""
             }
            },
            "type": "scattergeo"
           }
          ],
          "scattergl": [
           {
            "marker": {
             "colorbar": {
              "outlinewidth": 0,
              "ticks": ""
             }
            },
            "type": "scattergl"
           }
          ],
          "scattermapbox": [
           {
            "marker": {
             "colorbar": {
              "outlinewidth": 0,
              "ticks": ""
             }
            },
            "type": "scattermapbox"
           }
          ],
          "scatterpolar": [
           {
            "marker": {
             "colorbar": {
              "outlinewidth": 0,
              "ticks": ""
             }
            },
            "type": "scatterpolar"
           }
          ],
          "scatterpolargl": [
           {
            "marker": {
             "colorbar": {
              "outlinewidth": 0,
              "ticks": ""
             }
            },
            "type": "scatterpolargl"
           }
          ],
          "scatterternary": [
           {
            "marker": {
             "colorbar": {
              "outlinewidth": 0,
              "ticks": ""
             }
            },
            "type": "scatterternary"
           }
          ],
          "surface": [
           {
            "colorbar": {
             "outlinewidth": 0,
             "ticks": ""
            },
            "colorscale": [
             [
              0,
              "#0d0887"
             ],
             [
              0.1111111111111111,
              "#46039f"
             ],
             [
              0.2222222222222222,
              "#7201a8"
             ],
             [
              0.3333333333333333,
              "#9c179e"
             ],
             [
              0.4444444444444444,
              "#bd3786"
             ],
             [
              0.5555555555555556,
              "#d8576b"
             ],
             [
              0.6666666666666666,
              "#ed7953"
             ],
             [
              0.7777777777777778,
              "#fb9f3a"
             ],
             [
              0.8888888888888888,
              "#fdca26"
             ],
             [
              1,
              "#f0f921"
             ]
            ],
            "type": "surface"
           }
          ],
          "table": [
           {
            "cells": {
             "fill": {
              "color": "#EBF0F8"
             },
             "line": {
              "color": "white"
             }
            },
            "header": {
             "fill": {
              "color": "#C8D4E3"
             },
             "line": {
              "color": "white"
             }
            },
            "type": "table"
           }
          ]
         },
         "layout": {
          "annotationdefaults": {
           "arrowcolor": "#2a3f5f",
           "arrowhead": 0,
           "arrowwidth": 1
          },
          "autotypenumbers": "strict",
          "coloraxis": {
           "colorbar": {
            "outlinewidth": 0,
            "ticks": ""
           }
          },
          "colorscale": {
           "diverging": [
            [
             0,
             "#8e0152"
            ],
            [
             0.1,
             "#c51b7d"
            ],
            [
             0.2,
             "#de77ae"
            ],
            [
             0.3,
             "#f1b6da"
            ],
            [
             0.4,
             "#fde0ef"
            ],
            [
             0.5,
             "#f7f7f7"
            ],
            [
             0.6,
             "#e6f5d0"
            ],
            [
             0.7,
             "#b8e186"
            ],
            [
             0.8,
             "#7fbc41"
            ],
            [
             0.9,
             "#4d9221"
            ],
            [
             1,
             "#276419"
            ]
           ],
           "sequential": [
            [
             0,
             "#0d0887"
            ],
            [
             0.1111111111111111,
             "#46039f"
            ],
            [
             0.2222222222222222,
             "#7201a8"
            ],
            [
             0.3333333333333333,
             "#9c179e"
            ],
            [
             0.4444444444444444,
             "#bd3786"
            ],
            [
             0.5555555555555556,
             "#d8576b"
            ],
            [
             0.6666666666666666,
             "#ed7953"
            ],
            [
             0.7777777777777778,
             "#fb9f3a"
            ],
            [
             0.8888888888888888,
             "#fdca26"
            ],
            [
             1,
             "#f0f921"
            ]
           ],
           "sequentialminus": [
            [
             0,
             "#0d0887"
            ],
            [
             0.1111111111111111,
             "#46039f"
            ],
            [
             0.2222222222222222,
             "#7201a8"
            ],
            [
             0.3333333333333333,
             "#9c179e"
            ],
            [
             0.4444444444444444,
             "#bd3786"
            ],
            [
             0.5555555555555556,
             "#d8576b"
            ],
            [
             0.6666666666666666,
             "#ed7953"
            ],
            [
             0.7777777777777778,
             "#fb9f3a"
            ],
            [
             0.8888888888888888,
             "#fdca26"
            ],
            [
             1,
             "#f0f921"
            ]
           ]
          },
          "colorway": [
           "#636efa",
           "#EF553B",
           "#00cc96",
           "#ab63fa",
           "#FFA15A",
           "#19d3f3",
           "#FF6692",
           "#B6E880",
           "#FF97FF",
           "#FECB52"
          ],
          "font": {
           "color": "#2a3f5f"
          },
          "geo": {
           "bgcolor": "white",
           "lakecolor": "white",
           "landcolor": "#E5ECF6",
           "showlakes": true,
           "showland": true,
           "subunitcolor": "white"
          },
          "hoverlabel": {
           "align": "left"
          },
          "hovermode": "closest",
          "mapbox": {
           "style": "light"
          },
          "paper_bgcolor": "white",
          "plot_bgcolor": "#E5ECF6",
          "polar": {
           "angularaxis": {
            "gridcolor": "white",
            "linecolor": "white",
            "ticks": ""
           },
           "bgcolor": "#E5ECF6",
           "radialaxis": {
            "gridcolor": "white",
            "linecolor": "white",
            "ticks": ""
           }
          },
          "scene": {
           "xaxis": {
            "backgroundcolor": "#E5ECF6",
            "gridcolor": "white",
            "gridwidth": 2,
            "linecolor": "white",
            "showbackground": true,
            "ticks": "",
            "zerolinecolor": "white"
           },
           "yaxis": {
            "backgroundcolor": "#E5ECF6",
            "gridcolor": "white",
            "gridwidth": 2,
            "linecolor": "white",
            "showbackground": true,
            "ticks": "",
            "zerolinecolor": "white"
           },
           "zaxis": {
            "backgroundcolor": "#E5ECF6",
            "gridcolor": "white",
            "gridwidth": 2,
            "linecolor": "white",
            "showbackground": true,
            "ticks": "",
            "zerolinecolor": "white"
           }
          },
          "shapedefaults": {
           "line": {
            "color": "#2a3f5f"
           }
          },
          "ternary": {
           "aaxis": {
            "gridcolor": "white",
            "linecolor": "white",
            "ticks": ""
           },
           "baxis": {
            "gridcolor": "white",
            "linecolor": "white",
            "ticks": ""
           },
           "bgcolor": "#E5ECF6",
           "caxis": {
            "gridcolor": "white",
            "linecolor": "white",
            "ticks": ""
           }
          },
          "title": {
           "x": 0.05
          },
          "xaxis": {
           "automargin": true,
           "gridcolor": "white",
           "linecolor": "white",
           "ticks": "",
           "title": {
            "standoff": 15
           },
           "zerolinecolor": "white",
           "zerolinewidth": 2
          },
          "yaxis": {
           "automargin": true,
           "gridcolor": "white",
           "linecolor": "white",
           "ticks": "",
           "title": {
            "standoff": 15
           },
           "zerolinecolor": "white",
           "zerolinewidth": 2
          }
         }
        }
       }
      }
     },
     "metadata": {},
     "output_type": "display_data"
    }
   ],
   "source": [
    "## Graph \n",
    "\n",
    "import plotly.graph_objects as go\n",
    "\n",
    "import pandas as pd\n",
    "from datetime import datetime\n",
    "\n",
    "df = Statergy('GOOGL')\n",
    "df = df.get_script_data()\n",
    "fig = go.Figure(data=[go.Candlestick(x=df['timestamp'],\n",
    "                open=df['open'],\n",
    "                high=df['high'],\n",
    "                low=df['low'],\n",
    "                close=df['close_data'])])\n",
    "\n",
    "fig.show()\n",
    "              "
   ]
  }
 ],
 "metadata": {
  "kernelspec": {
   "display_name": "venv",
   "language": "python",
   "name": "python3"
  },
  "language_info": {
   "codemirror_mode": {
    "name": "ipython",
    "version": 3
   },
   "file_extension": ".py",
   "mimetype": "text/x-python",
   "name": "python",
   "nbconvert_exporter": "python",
   "pygments_lexer": "ipython3",
   "version": "3.10.7"
  },
  "vscode": {
   "interpreter": {
    "hash": "d72476a5d23c9a97fea53fb4476ac981a85648c4ec956c20448d34bd53c967c0"
   }
  }
 },
 "nbformat": 4,
 "nbformat_minor": 5
}
